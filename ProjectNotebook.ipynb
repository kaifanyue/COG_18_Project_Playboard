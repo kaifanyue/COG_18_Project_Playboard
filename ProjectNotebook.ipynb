{
 "cells": [
  {
   "cell_type": "markdown",
   "metadata": {},
   "source": [
    "# Project Description"
   ]
  },
  {
   "cell_type": "markdown",
   "metadata": {},
   "source": [
    "The projecy is a board game that lets you mvoe a robot on a playground and activate special skills when you hit certain places. \n",
    "The project is built upon the artificial agents idea in A4. I expand the idea to enable user to control the bot, create special skills, and put it in a complete user interface.  \n",
    "***Manual Control***   \n",
    "User can control the robot in manual mode by pressing the arrow keys. This is realized by using tkinter and binding keys to a function that processes the key information.       \n",
    "***Special Skills***   \n",
    "I created two methods that let the bot have different move patterns. The first one is double step. When the bot step on a double step location, it will move two girds for a step until it hits another double step location. The second one is teleport. Portals are randomly generated on the board just like double step locations. When you step on a portal, you will be teleported to another portal.   \n",
    "***GUI Integration***   \n",
    "The manual mode is built upon tkinter so I natually put every thing on a user interface to make a better game experience. When you run the script. A window will automatically pop up. You can change the grid size, number of double step locations, number of portals and number of iterations if you choose automatic mode. Then you need to choose between manual and automatic mode, and press start button. If you enter non-positive number or string, an error message will show up. If everything is ok, a new window will pop up that shows the playboard. You can close the playboard and start a new game with new parameter for however many times you like. \n",
    "\n"
   ]
  },
  {
   "cell_type": "markdown",
   "metadata": {},
   "source": [
    "# Instruction"
   ]
  },
  {
   "cell_type": "markdown",
   "metadata": {},
   "source": [
    "1. Run my_script.py and the game interface will show up.\n",
    "2. Modify the parameters if you like.\n",
    "3. Choose a mode by click a radio button.\n",
    "4. Click Start and game board will pop up.\n",
    "5. Move your arrow keys to control the bot if you chose manual mode.\n",
    "6. Close the game board by pressing escape key or click the close window button. (Error may pop up in the terminal when you close the window, but it doesn't affet the game)\n",
    "7. Repeat step 2-5 to play another round of game.\n",
    "8. Click quit button to quit the game."
   ]
  },
  {
   "cell_type": "markdown",
   "metadata": {},
   "source": [
    "## Project Code"
   ]
  },
  {
   "cell_type": "code",
   "execution_count": null,
   "metadata": {},
   "outputs": [],
   "source": [
    "!pytest test_functions.py"
   ]
  },
  {
   "cell_type": "code",
   "execution_count": null,
   "metadata": {},
   "outputs": [],
   "source": [
    "!python my_script.py"
   ]
  },
  {
   "cell_type": "markdown",
   "metadata": {},
   "source": [
    "#### Extra Credit (*optional*)\n",
    " \n",
    "1. Never learned python before. Have some experience in coding in matlab and for arduino. I chose to learn python because I think it's an important tool for doing research.\n",
    "2. Although the game is pretty simple and boring, 80% of the things I did in the project is beyong what's taught in the class. I did extensive research on tkinter and implemented tools including key binds, Toplevel, messagebox, radio button, canvas, entry box, button, etc. And I've been through lost of trials and errors to make the game interface and playboard look as nice as it is. My project also shows very strong logic by extensively using class, loops and so on. I also included lots of code that make sure as little bugs as possible will pop up if you play around with it.    \n",
    "3. I also followed good documentation and style.\n",
    "4. The project is uploaded to github."
   ]
  },
  {
   "cell_type": "markdown",
   "metadata": {},
   "source": [
    "## Thank you!"
   ]
  }
 ],
 "metadata": {
  "kernelspec": {
   "display_name": "Python 3",
   "language": "python",
   "name": "python3"
  },
  "language_info": {
   "codemirror_mode": {
    "name": "ipython",
    "version": 3
   },
   "file_extension": ".py",
   "mimetype": "text/x-python",
   "name": "python",
   "nbconvert_exporter": "python",
   "pygments_lexer": "ipython3",
   "version": "3.7.6"
  }
 },
 "nbformat": 4,
 "nbformat_minor": 2
}
